{
  "nbformat": 4,
  "nbformat_minor": 0,
  "metadata": {
    "colab": {
      "name": "Cópia de Prova_estagiario-ciencia-dados.ipynb",
      "provenance": [],
      "collapsed_sections": [
        "dUsk-MT_RX4F",
        "Hq5BvtjGR1-9",
        "4wMYia3XR7hs",
        "aLzxudWMU9Gi",
        "f18_dKxCVEAj",
        "cCAb3qnV-EiG",
        "NMX4y6wJEkr4",
        "B1FwWwZ-AVSb",
        "Ea1_vBMLJz35",
        "DhdOCkWggi7H",
        "OdsYXRbWFteF",
        "Jq3iuGC_SElR"
      ]
    },
    "kernelspec": {
      "name": "python3",
      "display_name": "Python 3"
    },
    "language_info": {
      "name": "python"
    },
    "accelerator": "GPU"
  },
  "cells": [
    {
      "cell_type": "markdown",
      "metadata": {
        "id": "4acwUb3SuED5"
      },
      "source": [
        "**Gerando o arquivo requirements.txt**"
      ]
    },
    {
      "cell_type": "code",
      "metadata": {
        "id": "3S8bMpHint_H"
      },
      "source": [
        "!pip3 freeze > requirements.txt"
      ],
      "execution_count": null,
      "outputs": []
    },
    {
      "cell_type": "markdown",
      "metadata": {
        "id": "dUsk-MT_RX4F"
      },
      "source": [
        "# Git"
      ]
    },
    {
      "cell_type": "code",
      "metadata": {
        "colab": {
          "base_uri": "https://localhost:8080/"
        },
        "id": "EYjvLNu1RSh7",
        "outputId": "9f54fc80-d95e-4cb2-e87b-553afda5c077"
      },
      "source": [
        "# clonando o repositorio\n",
        "\n",
        "!git clone http://pdi.mobitbrasil.com.br:8601/scm/anp/estagiario-ciencia-dados.git"
      ],
      "execution_count": null,
      "outputs": [
        {
          "output_type": "stream",
          "text": [
            "Cloning into 'estagiario-ciencia-dados'...\n",
            "remote: Counting objects: 33, done.\u001b[K\n",
            "remote: Compressing objects: 100% (32/32), done.\u001b[K\n",
            "remote: Total 33 (delta 10), reused 0 (delta 0)\u001b[K\n",
            "Unpacking objects: 100% (33/33), done.\n"
          ],
          "name": "stdout"
        }
      ]
    },
    {
      "cell_type": "code",
      "metadata": {
        "colab": {
          "base_uri": "https://localhost:8080/"
        },
        "id": "sEXzfVSx0j3u",
        "outputId": "eaf6f633-7fe0-4f77-a036-10c446e98700"
      },
      "source": [
        "%cd /content/estagiario-ciencia-dados\n",
        "!git status"
      ],
      "execution_count": null,
      "outputs": [
        {
          "output_type": "stream",
          "text": [
            "/content/estagiario-ciencia-dados\n",
            "On branch master\n",
            "Your branch is up to date with 'origin/master'.\n",
            "\n",
            "nothing to commit, working tree clean\n"
          ],
          "name": "stdout"
        }
      ]
    },
    {
      "cell_type": "markdown",
      "metadata": {
        "id": "Hq5BvtjGR1-9"
      },
      "source": [
        "# Imports"
      ]
    },
    {
      "cell_type": "code",
      "metadata": {
        "id": "4rHVhe1qRiWe"
      },
      "source": [
        "import pandas as pd\n",
        "import matplotlib.pyplot as plt\n",
        "import numpy as np\n",
        "import pickle\n",
        "import seaborn as sn\n",
        "from sklearn.preprocessing import LabelEncoder\n",
        "from sklearn.cluster import KMeans\n",
        "from sklearn.preprocessing import MinMaxScaler\n",
        "from sklearn.utils import shuffle\n",
        "from sklearn.model_selection import train_test_split\n",
        "from sklearn.ensemble import RandomForestClassifier\n",
        "from sklearn.metrics import confusion_matrix, ConfusionMatrixDisplay\n",
        "from sklearn.metrics import precision_recall_fscore_support"
      ],
      "execution_count": null,
      "outputs": []
    },
    {
      "cell_type": "markdown",
      "metadata": {
        "id": "4wMYia3XR7hs"
      },
      "source": [
        "# Analisando o Banco de Dados"
      ]
    },
    {
      "cell_type": "markdown",
      "metadata": {
        "id": "aLzxudWMU9Gi"
      },
      "source": [
        "## 1.1 - Carregue o conjunto de dados em memória para realizar as análises."
      ]
    },
    {
      "cell_type": "code",
      "metadata": {
        "id": "q4MDHGTTSFBV"
      },
      "source": [
        "# caminho do banco de dados\n",
        "path_file = '/content/estagiario-ciencia-dados/data/traffic_data.feather'\n",
        "df = pd.read_feather(path_file)"
      ],
      "execution_count": null,
      "outputs": []
    },
    {
      "cell_type": "code",
      "metadata": {
        "colab": {
          "base_uri": "https://localhost:8080/",
          "height": 759
        },
        "id": "IpDATFzZ9ah4",
        "outputId": "489b9284-cfa1-437b-809c-022d810248be"
      },
      "source": [
        "df"
      ],
      "execution_count": null,
      "outputs": [
        {
          "output_type": "execute_result",
          "data": {
            "text/html": [
              "<div>\n",
              "<style scoped>\n",
              "    .dataframe tbody tr th:only-of-type {\n",
              "        vertical-align: middle;\n",
              "    }\n",
              "\n",
              "    .dataframe tbody tr th {\n",
              "        vertical-align: top;\n",
              "    }\n",
              "\n",
              "    .dataframe thead th {\n",
              "        text-align: right;\n",
              "    }\n",
              "</style>\n",
              "<table border=\"1\" class=\"dataframe\">\n",
              "  <thead>\n",
              "    <tr style=\"text-align: right;\">\n",
              "      <th></th>\n",
              "      <th>index</th>\n",
              "      <th>passage</th>\n",
              "      <th>direction</th>\n",
              "      <th>type</th>\n",
              "      <th>region</th>\n",
              "      <th>timestamp</th>\n",
              "      <th>jam_size</th>\n",
              "      <th>segment</th>\n",
              "    </tr>\n",
              "  </thead>\n",
              "  <tbody>\n",
              "    <tr>\n",
              "      <th>0</th>\n",
              "      <td>0</td>\n",
              "      <td>Jânio Quadros, Túnel</td>\n",
              "      <td>unico//</td>\n",
              "      <td>NaN</td>\n",
              "      <td>OESTE</td>\n",
              "      <td>2015-01-04 14:30:00</td>\n",
              "      <td>799</td>\n",
              "      <td>De OSCAR AMERICANO até  JUSCELINO KUBITSCHEK</td>\n",
              "    </tr>\n",
              "    <tr>\n",
              "      <th>1</th>\n",
              "      <td>1</td>\n",
              "      <td>Juscelino Kubitschek, Av Pres</td>\n",
              "      <td>Ibirapuera/Pinheiros</td>\n",
              "      <td>NaN</td>\n",
              "      <td>SUL</td>\n",
              "      <td>2015-01-04 14:30:00</td>\n",
              "      <td>260</td>\n",
              "      <td>De  Emboque Túnel Jânio Quadros até 290 m depo...</td>\n",
              "    </tr>\n",
              "    <tr>\n",
              "      <th>2</th>\n",
              "      <td>2</td>\n",
              "      <td>Jânio Quadros, Túnel</td>\n",
              "      <td>unico//</td>\n",
              "      <td>NaN</td>\n",
              "      <td>OESTE</td>\n",
              "      <td>2015-01-04 15:00:00</td>\n",
              "      <td>799</td>\n",
              "      <td>De OSCAR AMERICANO até  JUSCELINO KUBITSCHEK</td>\n",
              "    </tr>\n",
              "    <tr>\n",
              "      <th>3</th>\n",
              "      <td>3</td>\n",
              "      <td>Juscelino Kubitschek, Av Pres</td>\n",
              "      <td>Ibirapuera/Pinheiros</td>\n",
              "      <td>NaN</td>\n",
              "      <td>SUL</td>\n",
              "      <td>2015-01-04 15:00:00</td>\n",
              "      <td>260</td>\n",
              "      <td>De  Emboque Túnel Jânio Quadros até 290 m depo...</td>\n",
              "    </tr>\n",
              "    <tr>\n",
              "      <th>4</th>\n",
              "      <td>4</td>\n",
              "      <td>Jânio Quadros, Túnel</td>\n",
              "      <td>unico//</td>\n",
              "      <td>NaN</td>\n",
              "      <td>OESTE</td>\n",
              "      <td>2015-01-04 15:30:00</td>\n",
              "      <td>799</td>\n",
              "      <td>De OSCAR AMERICANO até  JUSCELINO KUBITSCHEK</td>\n",
              "    </tr>\n",
              "    <tr>\n",
              "      <th>...</th>\n",
              "      <td>...</td>\n",
              "      <td>...</td>\n",
              "      <td>...</td>\n",
              "      <td>...</td>\n",
              "      <td>...</td>\n",
              "      <td>...</td>\n",
              "      <td>...</td>\n",
              "      <td>...</td>\n",
              "    </tr>\n",
              "    <tr>\n",
              "      <th>5223443</th>\n",
              "      <td>230195</td>\n",
              "      <td>Marginal Pinheiros</td>\n",
              "      <td>Interlagos/Castelo</td>\n",
              "      <td>A</td>\n",
              "      <td>OESTE</td>\n",
              "      <td>2018-09-30 18:30:00</td>\n",
              "      <td>3820</td>\n",
              "      <td>De CIDADE UNIVERSITARIA até 350 m depois de JU...</td>\n",
              "    </tr>\n",
              "    <tr>\n",
              "      <th>5223444</th>\n",
              "      <td>230196</td>\n",
              "      <td>Marginal Pinheiros</td>\n",
              "      <td>Interlagos/Castelo</td>\n",
              "      <td>E</td>\n",
              "      <td>OESTE</td>\n",
              "      <td>2018-09-30 19:00:00</td>\n",
              "      <td>4640</td>\n",
              "      <td>De CIDADE UNIVERSITARIA até 700 m depois de QU...</td>\n",
              "    </tr>\n",
              "    <tr>\n",
              "      <th>5223445</th>\n",
              "      <td>230197</td>\n",
              "      <td>Marginal Pinheiros</td>\n",
              "      <td>Interlagos/Castelo</td>\n",
              "      <td>A</td>\n",
              "      <td>OESTE</td>\n",
              "      <td>2018-09-30 19:00:00</td>\n",
              "      <td>3820</td>\n",
              "      <td>De CIDADE UNIVERSITARIA até 350 m depois de JU...</td>\n",
              "    </tr>\n",
              "    <tr>\n",
              "      <th>5223446</th>\n",
              "      <td>230198</td>\n",
              "      <td>Marginal Pinheiros</td>\n",
              "      <td>Interlagos/Castelo</td>\n",
              "      <td>E</td>\n",
              "      <td>OESTE</td>\n",
              "      <td>2018-09-30 19:30:00</td>\n",
              "      <td>4640</td>\n",
              "      <td>De CIDADE UNIVERSITARIA até 700 m depois de QU...</td>\n",
              "    </tr>\n",
              "    <tr>\n",
              "      <th>5223447</th>\n",
              "      <td>230199</td>\n",
              "      <td>Marginal Pinheiros</td>\n",
              "      <td>Interlagos/Castelo</td>\n",
              "      <td>A</td>\n",
              "      <td>OESTE</td>\n",
              "      <td>2018-09-30 19:30:00</td>\n",
              "      <td>3820</td>\n",
              "      <td>De CIDADE UNIVERSITARIA até 350 m depois de JU...</td>\n",
              "    </tr>\n",
              "  </tbody>\n",
              "</table>\n",
              "<p>5223448 rows × 8 columns</p>\n",
              "</div>"
            ],
            "text/plain": [
              "          index  ...                                            segment\n",
              "0             0  ...       De OSCAR AMERICANO até  JUSCELINO KUBITSCHEK\n",
              "1             1  ...  De  Emboque Túnel Jânio Quadros até 290 m depo...\n",
              "2             2  ...       De OSCAR AMERICANO até  JUSCELINO KUBITSCHEK\n",
              "3             3  ...  De  Emboque Túnel Jânio Quadros até 290 m depo...\n",
              "4             4  ...       De OSCAR AMERICANO até  JUSCELINO KUBITSCHEK\n",
              "...         ...  ...                                                ...\n",
              "5223443  230195  ...  De CIDADE UNIVERSITARIA até 350 m depois de JU...\n",
              "5223444  230196  ...  De CIDADE UNIVERSITARIA até 700 m depois de QU...\n",
              "5223445  230197  ...  De CIDADE UNIVERSITARIA até 350 m depois de JU...\n",
              "5223446  230198  ...  De CIDADE UNIVERSITARIA até 700 m depois de QU...\n",
              "5223447  230199  ...  De CIDADE UNIVERSITARIA até 350 m depois de JU...\n",
              "\n",
              "[5223448 rows x 8 columns]"
            ]
          },
          "metadata": {
            "tags": []
          },
          "execution_count": 4
        }
      ]
    },
    {
      "cell_type": "markdown",
      "metadata": {
        "id": "f18_dKxCVEAj"
      },
      "source": [
        "## 1.2 - Dados Nulos/Faltantes"
      ]
    },
    {
      "cell_type": "markdown",
      "metadata": {
        "id": "no1rqE925z8K"
      },
      "source": [
        "**Gerando grafico com os valores nulos**"
      ]
    },
    {
      "cell_type": "code",
      "metadata": {
        "id": "2t9XNLY-V6BU"
      },
      "source": [
        "# Fazendo uma varredura em todas as colunas e encontrando os valores Nan\n",
        "\n",
        "nan_columns = []\n",
        "nan_values = []\n",
        "\n",
        "for column in df.columns:\n",
        "    nan_columns.append(column)\n",
        "    nan_values.append(df[column].isnull().sum())\n"
      ],
      "execution_count": null,
      "outputs": []
    },
    {
      "cell_type": "code",
      "metadata": {
        "colab": {
          "base_uri": "https://localhost:8080/"
        },
        "id": "LYDbg7YM6hzW",
        "outputId": "08b4d81b-5b7a-4fe0-da3f-b6d427145df9"
      },
      "source": [
        "print(nan_values)"
      ],
      "execution_count": null,
      "outputs": [
        {
          "output_type": "stream",
          "text": [
            "[0, 0, 0, 3323735, 2509341, 0, 0, 0]\n"
          ],
          "name": "stdout"
        }
      ]
    },
    {
      "cell_type": "code",
      "metadata": {
        "colab": {
          "base_uri": "https://localhost:8080/",
          "height": 356
        },
        "id": "9liEeL2h3USM",
        "outputId": "f4aff3cd-64f3-4e79-c2f0-431052b39ad3"
      },
      "source": [
        "New_Colors = ['green','blue','purple','brown','teal']\n",
        "fig, ax = plt.subplots(figsize=(10,5))\n",
        "plt.bar(nan_columns, nan_values, color=New_Colors)\n",
        "plt.title('Quantidade de Valores NaN por Coluna', fontsize=14)\n",
        "plt.xlabel('Coluna', fontsize=14)\n",
        "plt.ylabel('Quantidade de Valores NaN', fontsize=14)\n",
        "plt.grid(True)\n",
        "plt.show()"
      ],
      "execution_count": null,
      "outputs": [
        {
          "output_type": "display_data",
          "data": {
            "image/png": "[encoded data removed]",
            "text/plain": [
              "<Figure size 720x360 with 1 Axes>"
            ]
          },
          "metadata": {
            "tags": [],
            "needs_background": "light"
          }
        }
      ]
    },
    {
      "cell_type": "markdown",
      "metadata": {
        "id": "bjVbR1Fy6pvN"
      },
      "source": [
        "**Com este grafico é possivel notar que os valores nulos são referentes as colunas \"*type*\" e \"*region*\".**"
      ]
    },
    {
      "cell_type": "markdown",
      "metadata": {
        "id": "jwxQeppu9aO9"
      },
      "source": [
        "**Tendo este problema em vista pode-se fazer as seguintes abordagens:**\n",
        "\n",
        "1.   Substituir os valores Nan por alguma classe que os represente.\n",
        "2.   Eliminar as linhas que apresentam algum valor Nan.\n",
        "\n"
      ]
    },
    {
      "cell_type": "markdown",
      "metadata": {
        "id": "cCAb3qnV-EiG"
      },
      "source": [
        "### Abordagem 1:"
      ]
    },
    {
      "cell_type": "markdown",
      "metadata": {
        "id": "KAMoozqRIKps"
      },
      "source": [
        "**Realizando essa abordagem o dataframe não sofrerá redução.**"
      ]
    },
    {
      "cell_type": "code",
      "metadata": {
        "id": "-hkHQxkY-Jr7"
      },
      "source": [
        "# Redefinindo os valores Nan da coluna \"type\"\n",
        "# Os valores Nan irão receber a sigla \"NINF\" que significa \"Não Informado\"\n",
        "\n",
        "df_2 = pd.read_feather(path_file)\n",
        "df_2['type'] = df_2['type'].replace({np.nan: \"NINF\"})"
      ],
      "execution_count": null,
      "outputs": []
    },
    {
      "cell_type": "code",
      "metadata": {
        "id": "A8QbiMAS_B_3"
      },
      "source": [
        "# Redefinindo os valores Nan da coluna \"region\"\n",
        "# Os valores Nan irão receber a sigla \"RNI\" que significa \"Regiao Não Informado\"\n",
        "\n",
        "df_2['region'] = df_2['region'].replace({np.nan: \"RNI\"})"
      ],
      "execution_count": null,
      "outputs": []
    },
    {
      "cell_type": "code",
      "metadata": {
        "id": "9klvDEEf_a5T"
      },
      "source": [
        "df_2['type'] = pd.Series(df_2['type'], dtype=\"category\")\n",
        "df_2['region'] = pd.Series(df_2['region'], dtype=\"category\")"
      ],
      "execution_count": null,
      "outputs": []
    },
    {
      "cell_type": "code",
      "metadata": {
        "id": "bOQ6mocqLH40"
      },
      "source": [
        "# Salvando abordagem 1 (opcional)\n",
        "\n",
        "#df_2 = df_2.reset_index()\n",
        "#df_2.to_feather('df_2.feather')"
      ],
      "execution_count": null,
      "outputs": []
    },
    {
      "cell_type": "markdown",
      "metadata": {
        "id": "NMX4y6wJEkr4"
      },
      "source": [
        "### Abordagem 2:"
      ]
    },
    {
      "cell_type": "markdown",
      "metadata": {
        "id": "PePt66cYH6PU"
      },
      "source": [
        "**Realizando essa abordagem o dataframe sofrerá uma grande redução.**"
      ]
    },
    {
      "cell_type": "code",
      "metadata": {
        "id": "trVNdHvvEn7H"
      },
      "source": [
        "# Removendo todas as linhas que tem Valores Nan\n",
        "\n",
        "df_3 = pd.read_feather(path_file)\n",
        "df_3 = df_3.dropna()"
      ],
      "execution_count": null,
      "outputs": []
    },
    {
      "cell_type": "code",
      "metadata": {
        "id": "Irba3hMyLZuG"
      },
      "source": [
        "# Salvando abordagem 2 (opcional)\n",
        "\n",
        "#df_3 = df_3.reset_index()\n",
        "#df_3.to_feather('df_3.feather')"
      ],
      "execution_count": null,
      "outputs": []
    },
    {
      "cell_type": "markdown",
      "metadata": {
        "id": "B1FwWwZ-AVSb"
      },
      "source": [
        "### Grafico Comparativo:"
      ]
    },
    {
      "cell_type": "code",
      "metadata": {
        "colab": {
          "base_uri": "https://localhost:8080/",
          "height": 355
        },
        "id": "ILSUwg1yAaxe",
        "outputId": "2166d209-c615-46b9-8772-95ee4268edf4"
      },
      "source": [
        "New_Colors = ['green','blue','purple']\n",
        "Ax = ['Original', 'Abordagem 1', 'Abordagem 2']\n",
        "Ay = [len(df), len(df_2), len(df_3)]\n",
        "\n",
        "fig, ax = plt.subplots(figsize=(10,5))\n",
        "plt.bar(Ax, Ay, color=New_Colors)\n",
        "plt.title('Tamanho do Banco por Abordagem', fontsize=14)\n",
        "plt.xlabel('Coluna', fontsize=14)\n",
        "plt.ylabel('Tamanho do Banco', fontsize=14)\n",
        "plt.grid(True)\n",
        "plt.show()"
      ],
      "execution_count": null,
      "outputs": [
        {
          "output_type": "display_data",
          "data": {
            "image/png": "[encoded data removed]",
            "text/plain": [
              "<Figure size 720x360 with 1 Axes>"
            ]
          },
          "metadata": {
            "tags": [],
            "needs_background": "light"
          }
        }
      ]
    },
    {
      "cell_type": "markdown",
      "metadata": {
        "id": "yo11Rgl0vecE"
      },
      "source": [
        "**Com base no grafico acima, pode-se analisar que houve uma grande redução do banco na abordagem 2. Portanto, a abordagem 1 será escolhida**"
      ]
    },
    {
      "cell_type": "markdown",
      "metadata": {
        "id": "Ea1_vBMLJz35"
      },
      "source": [
        "## 1.3 - Dados Categóricos"
      ]
    },
    {
      "cell_type": "markdown",
      "metadata": {
        "id": "syIV0sXXPimu"
      },
      "source": [
        "**Por quê transformar os dados categoricos em numericos?**"
      ]
    },
    {
      "cell_type": "markdown",
      "metadata": {
        "id": "zIiwcwCWP50o"
      },
      "source": [
        "*Porque alguns algoritmos de Machine Learning não trabalham com dados categóricos, ou seja, não aceitam esses dados como entrada. Por exemplo, algoritmos como SVM ou uma regressão linear, somente trabalham com valores numéricos. Diante dessa limitação precisamos converter as variáveis categóricas para valores numéricos.*\n",
        "\n"
      ]
    },
    {
      "cell_type": "code",
      "metadata": {
        "id": "wPrl6QeLWOWO"
      },
      "source": [
        "# Da um valor inteiro que representa o valor categorico\n",
        "LE = LabelEncoder()\n",
        "\n",
        "# Criando um dataframe com os dados categoricos\n",
        "df_categ_Encoder = pd.DataFrame()\n",
        "\n",
        "# Colunas:\n",
        "# index | passage | direction | type | region | timestamp | jam_size | segment\n",
        "df_categ_Encoder['index'] = df_2.index\n",
        "df_categ_Encoder['passage_Encod'] = LE.fit_transform(df_2['passage'])\n",
        "df_categ_Encoder['direction_Encod'] = LE.fit_transform(df_2['direction'])\n",
        "df_categ_Encoder['type_Encod'] = LE.fit_transform(df_2['type'])\n",
        "df_categ_Encoder['region_Encod'] = LE.fit_transform(df_2['region'])\n",
        "df_categ_Encoder['timestamp'] = df_2.timestamp\n",
        "df_categ_Encoder['jam_size'] = df_2.jam_size\n",
        "df_categ_Encoder['jam_size_Encod'] = LE.fit_transform(df_2.jam_size)\n",
        "df_categ_Encoder['segment_Encod'] = LE.fit_transform(df_2['segment'])"
      ],
      "execution_count": null,
      "outputs": []
    },
    {
      "cell_type": "code",
      "metadata": {
        "colab": {
          "base_uri": "https://localhost:8080/",
          "height": 609
        },
        "id": "6Z8VWMG_FuAr",
        "outputId": "69546f6e-18cc-43e0-996e-9f34803e7b63"
      },
      "source": [
        "#df_categ_Encoder.to_feather('dataframe_catego.feather')\n",
        "df_categ_Encoder"
      ],
      "execution_count": null,
      "outputs": [
        {
          "output_type": "execute_result",
          "data": {
            "text/html": [
              "<div>\n",
              "<style scoped>\n",
              "    .dataframe tbody tr th:only-of-type {\n",
              "        vertical-align: middle;\n",
              "    }\n",
              "\n",
              "    .dataframe tbody tr th {\n",
              "        vertical-align: top;\n",
              "    }\n",
              "\n",
              "    .dataframe thead th {\n",
              "        text-align: right;\n",
              "    }\n",
              "</style>\n",
              "<table border=\"1\" class=\"dataframe\">\n",
              "  <thead>\n",
              "    <tr style=\"text-align: right;\">\n",
              "      <th></th>\n",
              "      <th>index</th>\n",
              "      <th>passage_Encod</th>\n",
              "      <th>direction_Encod</th>\n",
              "      <th>type_Encod</th>\n",
              "      <th>region_Encod</th>\n",
              "      <th>timestamp</th>\n",
              "      <th>jam_size</th>\n",
              "      <th>jam_size_Encod</th>\n",
              "      <th>segment_Encod</th>\n",
              "    </tr>\n",
              "  </thead>\n",
              "  <tbody>\n",
              "    <tr>\n",
              "      <th>0</th>\n",
              "      <td>0</td>\n",
              "      <td>153</td>\n",
              "      <td>101</td>\n",
              "      <td>2</td>\n",
              "      <td>3</td>\n",
              "      <td>2015-01-04 14:30:00</td>\n",
              "      <td>799</td>\n",
              "      <td>748</td>\n",
              "      <td>99695</td>\n",
              "    </tr>\n",
              "    <tr>\n",
              "      <th>1</th>\n",
              "      <td>1</td>\n",
              "      <td>151</td>\n",
              "      <td>29</td>\n",
              "      <td>2</td>\n",
              "      <td>5</td>\n",
              "      <td>2015-01-04 14:30:00</td>\n",
              "      <td>260</td>\n",
              "      <td>209</td>\n",
              "      <td>533</td>\n",
              "    </tr>\n",
              "    <tr>\n",
              "      <th>2</th>\n",
              "      <td>2</td>\n",
              "      <td>153</td>\n",
              "      <td>101</td>\n",
              "      <td>2</td>\n",
              "      <td>3</td>\n",
              "      <td>2015-01-04 15:00:00</td>\n",
              "      <td>799</td>\n",
              "      <td>748</td>\n",
              "      <td>99695</td>\n",
              "    </tr>\n",
              "    <tr>\n",
              "      <th>3</th>\n",
              "      <td>3</td>\n",
              "      <td>151</td>\n",
              "      <td>29</td>\n",
              "      <td>2</td>\n",
              "      <td>5</td>\n",
              "      <td>2015-01-04 15:00:00</td>\n",
              "      <td>260</td>\n",
              "      <td>209</td>\n",
              "      <td>533</td>\n",
              "    </tr>\n",
              "    <tr>\n",
              "      <th>4</th>\n",
              "      <td>4</td>\n",
              "      <td>153</td>\n",
              "      <td>101</td>\n",
              "      <td>2</td>\n",
              "      <td>3</td>\n",
              "      <td>2015-01-04 15:30:00</td>\n",
              "      <td>799</td>\n",
              "      <td>748</td>\n",
              "      <td>99695</td>\n",
              "    </tr>\n",
              "    <tr>\n",
              "      <th>...</th>\n",
              "      <td>...</td>\n",
              "      <td>...</td>\n",
              "      <td>...</td>\n",
              "      <td>...</td>\n",
              "      <td>...</td>\n",
              "      <td>...</td>\n",
              "      <td>...</td>\n",
              "      <td>...</td>\n",
              "      <td>...</td>\n",
              "    </tr>\n",
              "    <tr>\n",
              "      <th>5223443</th>\n",
              "      <td>5223443</td>\n",
              "      <td>170</td>\n",
              "      <td>33</td>\n",
              "      <td>0</td>\n",
              "      <td>3</td>\n",
              "      <td>2018-09-30 18:30:00</td>\n",
              "      <td>3820</td>\n",
              "      <td>3769</td>\n",
              "      <td>75974</td>\n",
              "    </tr>\n",
              "    <tr>\n",
              "      <th>5223444</th>\n",
              "      <td>5223444</td>\n",
              "      <td>170</td>\n",
              "      <td>33</td>\n",
              "      <td>1</td>\n",
              "      <td>3</td>\n",
              "      <td>2018-09-30 19:00:00</td>\n",
              "      <td>4640</td>\n",
              "      <td>4587</td>\n",
              "      <td>76072</td>\n",
              "    </tr>\n",
              "    <tr>\n",
              "      <th>5223445</th>\n",
              "      <td>5223445</td>\n",
              "      <td>170</td>\n",
              "      <td>33</td>\n",
              "      <td>0</td>\n",
              "      <td>3</td>\n",
              "      <td>2018-09-30 19:00:00</td>\n",
              "      <td>3820</td>\n",
              "      <td>3769</td>\n",
              "      <td>75974</td>\n",
              "    </tr>\n",
              "    <tr>\n",
              "      <th>5223446</th>\n",
              "      <td>5223446</td>\n",
              "      <td>170</td>\n",
              "      <td>33</td>\n",
              "      <td>1</td>\n",
              "      <td>3</td>\n",
              "      <td>2018-09-30 19:30:00</td>\n",
              "      <td>4640</td>\n",
              "      <td>4587</td>\n",
              "      <td>76072</td>\n",
              "    </tr>\n",
              "    <tr>\n",
              "      <th>5223447</th>\n",
              "      <td>5223447</td>\n",
              "      <td>170</td>\n",
              "      <td>33</td>\n",
              "      <td>0</td>\n",
              "      <td>3</td>\n",
              "      <td>2018-09-30 19:30:00</td>\n",
              "      <td>3820</td>\n",
              "      <td>3769</td>\n",
              "      <td>75974</td>\n",
              "    </tr>\n",
              "  </tbody>\n",
              "</table>\n",
              "<p>5223448 rows × 9 columns</p>\n",
              "</div>"
            ],
            "text/plain": [
              "           index  passage_Encod  ...  jam_size_Encod  segment_Encod\n",
              "0              0            153  ...             748          99695\n",
              "1              1            151  ...             209            533\n",
              "2              2            153  ...             748          99695\n",
              "3              3            151  ...             209            533\n",
              "4              4            153  ...             748          99695\n",
              "...          ...            ...  ...             ...            ...\n",
              "5223443  5223443            170  ...            3769          75974\n",
              "5223444  5223444            170  ...            4587          76072\n",
              "5223445  5223445            170  ...            3769          75974\n",
              "5223446  5223446            170  ...            4587          76072\n",
              "5223447  5223447            170  ...            3769          75974\n",
              "\n",
              "[5223448 rows x 9 columns]"
            ]
          },
          "metadata": {
            "tags": []
          },
          "execution_count": 14
        }
      ]
    },
    {
      "cell_type": "markdown",
      "metadata": {
        "id": "DhdOCkWggi7H"
      },
      "source": [
        "## 1.4 - Correlação"
      ]
    },
    {
      "cell_type": "markdown",
      "metadata": {
        "id": "K2SUMTTNUsxK"
      },
      "source": [
        "**Com os graficos de correlação é possivel observar os atributos (colunas) que melhor se relacionam e assim escolher os \"melhores\" para o treinamento de um modelo de machine learning.**"
      ]
    },
    {
      "cell_type": "code",
      "metadata": {
        "id": "nNgUGoZnW6cO"
      },
      "source": [
        "# Criando duas colunas 'data' e 'hora'\n",
        "data = []\n",
        "hora = []\n",
        "\n",
        "for i in df_categ_Encoder['timestamp']:\n",
        "  i = str(i).split(' ')\n",
        "  data.append(i[0])\n",
        "  hora.append(i[1])\n",
        "\n",
        "df_categ_Encoder['data'] = data\n",
        "df_categ_Encoder['hora'] = hora"
      ],
      "execution_count": null,
      "outputs": []
    },
    {
      "cell_type": "code",
      "metadata": {
        "id": "c3WkRRFaEIsh"
      },
      "source": [
        "df_categ_Encoder['hora_Encod'] = LE.fit_transform(df_categ_Encoder['hora'])\n",
        "df_categ_Encoder['data_Encod'] = LE.fit_transform(df_categ_Encoder['data'])"
      ],
      "execution_count": null,
      "outputs": []
    },
    {
      "cell_type": "code",
      "metadata": {
        "colab": {
          "base_uri": "https://localhost:8080/",
          "height": 270
        },
        "id": "f3pgqxCOk7ii",
        "outputId": "fac85c32-373e-410b-977b-50b1c199473a"
      },
      "source": [
        "# Gerando grafico de correlação entre os seguintes atributos:\n",
        "# hora_Encod | data_Encod | jam_size | region_Encod | passage_Encod\n",
        "\n",
        "data = {'hora': df_categ_Encoder['hora_Encod'],\n",
        "        'data': df_categ_Encoder['data_Encod'],\n",
        "        'jam_size': df_categ_Encoder['jam_size'],\n",
        "        'region': df_categ_Encoder['region_Encod'],\n",
        "        'passage': df_categ_Encoder['passage_Encod']\n",
        "        }\n",
        "\n",
        "# Criando um dataframe\n",
        "df_corr = pd.DataFrame(data,columns=['hora', 'data', 'jam_size', 'region', 'passage'])\n",
        "\n",
        "# Gerando a correlação\n",
        "corrMatrix = df_corr.corr()\n",
        "sn.heatmap(corrMatrix, annot=True)\n",
        "plt.show()"
      ],
      "execution_count": null,
      "outputs": [
        {
          "output_type": "display_data",
          "data": {
            "image/png": "[encoded data removed]",
            "text/plain": [
              "<Figure size 432x288 with 2 Axes>"
            ]
          },
          "metadata": {
            "tags": [],
            "needs_background": "light"
          }
        }
      ]
    },
    {
      "cell_type": "code",
      "metadata": {
        "colab": {
          "base_uri": "https://localhost:8080/",
          "height": 204
        },
        "id": "fgAqdEqLETlX",
        "outputId": "4e281160-00e8-4849-9b9e-0e283833e84d"
      },
      "source": [
        "# Utilizando outro metodo para gerar o grafico de correlação\n",
        "df_corr.corr(method='spearman')"
      ],
      "execution_count": null,
      "outputs": [
        {
          "output_type": "execute_result",
          "data": {
            "text/html": [
              "<div>\n",
              "<style scoped>\n",
              "    .dataframe tbody tr th:only-of-type {\n",
              "        vertical-align: middle;\n",
              "    }\n",
              "\n",
              "    .dataframe tbody tr th {\n",
              "        vertical-align: top;\n",
              "    }\n",
              "\n",
              "    .dataframe thead th {\n",
              "        text-align: right;\n",
              "    }\n",
              "</style>\n",
              "<table border=\"1\" class=\"dataframe\">\n",
              "  <thead>\n",
              "    <tr style=\"text-align: right;\">\n",
              "      <th></th>\n",
              "      <th>hora</th>\n",
              "      <th>data</th>\n",
              "      <th>jam_size</th>\n",
              "      <th>region</th>\n",
              "      <th>passage</th>\n",
              "    </tr>\n",
              "  </thead>\n",
              "  <tbody>\n",
              "    <tr>\n",
              "      <th>hora</th>\n",
              "      <td>1.000000</td>\n",
              "      <td>-0.043102</td>\n",
              "      <td>0.024335</td>\n",
              "      <td>0.033555</td>\n",
              "      <td>-0.008648</td>\n",
              "    </tr>\n",
              "    <tr>\n",
              "      <th>data</th>\n",
              "      <td>-0.043102</td>\n",
              "      <td>1.000000</td>\n",
              "      <td>-0.020414</td>\n",
              "      <td>-0.443876</td>\n",
              "      <td>0.022269</td>\n",
              "    </tr>\n",
              "    <tr>\n",
              "      <th>jam_size</th>\n",
              "      <td>0.024335</td>\n",
              "      <td>-0.020414</td>\n",
              "      <td>1.000000</td>\n",
              "      <td>-0.043515</td>\n",
              "      <td>0.112920</td>\n",
              "    </tr>\n",
              "    <tr>\n",
              "      <th>region</th>\n",
              "      <td>0.033555</td>\n",
              "      <td>-0.443876</td>\n",
              "      <td>-0.043515</td>\n",
              "      <td>1.000000</td>\n",
              "      <td>-0.142341</td>\n",
              "    </tr>\n",
              "    <tr>\n",
              "      <th>passage</th>\n",
              "      <td>-0.008648</td>\n",
              "      <td>0.022269</td>\n",
              "      <td>0.112920</td>\n",
              "      <td>-0.142341</td>\n",
              "      <td>1.000000</td>\n",
              "    </tr>\n",
              "  </tbody>\n",
              "</table>\n",
              "</div>"
            ],
            "text/plain": [
              "              hora      data  jam_size    region   passage\n",
              "hora      1.000000 -0.043102  0.024335  0.033555 -0.008648\n",
              "data     -0.043102  1.000000 -0.020414 -0.443876  0.022269\n",
              "jam_size  0.024335 -0.020414  1.000000 -0.043515  0.112920\n",
              "region    0.033555 -0.443876 -0.043515  1.000000 -0.142341\n",
              "passage  -0.008648  0.022269  0.112920 -0.142341  1.000000"
            ]
          },
          "metadata": {
            "tags": []
          },
          "execution_count": 23
        }
      ]
    },
    {
      "cell_type": "code",
      "metadata": {
        "id": "uaBZAX-UInu-"
      },
      "source": [
        "#df_categ_Encoder.to_csv('dataframe_Encod.csv')"
      ],
      "execution_count": null,
      "outputs": []
    },
    {
      "cell_type": "markdown",
      "metadata": {
        "id": "67wwcHIxXSiQ"
      },
      "source": [
        "**Com este grafico pode-se analisar que a coluna 'passage' se ralaciona muito bem com a 'jam_size', mas esperava-se uma relação mais 'forte' com outros atributos, como 'data' e 'hora'.**"
      ]
    },
    {
      "cell_type": "markdown",
      "metadata": {
        "id": "OdsYXRbWFteF"
      },
      "source": [
        "## 1.5 - Análise de Engarrafamentos"
      ]
    },
    {
      "cell_type": "code",
      "metadata": {
        "id": "S3Sth8WnQAar"
      },
      "source": [
        "# Gerando colunas no dataframe\n",
        "\n",
        "ano = []\n",
        "mes = []\n",
        "dia = []\n",
        "\n",
        "for i in df_categ_Encoder['data']:\n",
        "  i = str(i).split('-')\n",
        "  ano.append(i[0])\n",
        "  mes.append(i[1])\n",
        "  dia.append(i[2])\n",
        "\n",
        "df_categ_Encoder['ano'] = ano\n",
        "df_categ_Encoder['mes'] = mes\n",
        "df_categ_Encoder['dia'] = dia"
      ],
      "execution_count": null,
      "outputs": []
    },
    {
      "cell_type": "code",
      "metadata": {
        "colab": {
          "base_uri": "https://localhost:8080/"
        },
        "id": "vimTNq45RCAe",
        "outputId": "c9071e96-14b3-4bc1-94a3-af59192e13a1"
      },
      "source": [
        "# Observando o range do atributo 'ano'\n",
        "\n",
        "print(df_categ_Encoder['ano'].min())\n",
        "print(df_categ_Encoder['ano'].max())"
      ],
      "execution_count": null,
      "outputs": [
        {
          "output_type": "stream",
          "text": [
            "2001\n",
            "2018\n"
          ],
          "name": "stdout"
        }
      ]
    },
    {
      "cell_type": "code",
      "metadata": {
        "id": "8phD4HyMR4mp"
      },
      "source": [
        "## Ano\n",
        "## Criando um dicionario e coletando todos os valores de 'jam_size' em um determinado ano\n",
        "\n",
        "new_df = df_categ_Encoder\n",
        "dict_data = {}\n",
        "\n",
        "for year in range(2001,2019):\n",
        "  find = new_df.loc[new_df['ano'] == str(year)]\n",
        "  vet_year = []\n",
        "\n",
        "  for i in find['jam_size']:\n",
        "    vet_year.append(i)\n",
        "  \n",
        "  dict_data[str(year)] = vet_year\n",
        "\n",
        "  #print(year)"
      ],
      "execution_count": null,
      "outputs": []
    },
    {
      "cell_type": "code",
      "metadata": {
        "id": "Gvt4qULzT6KX",
        "colab": {
          "base_uri": "https://localhost:8080/",
          "height": 286
        },
        "outputId": "7ec434cb-e03f-4806-e339-0e3da112da38"
      },
      "source": [
        "# Ano (agregado)\n",
        "# Somando (agregando) todos os valores de 'jam_size' em seu respectivo ano\n",
        "\n",
        "sum_dict = {}\n",
        "mean = {}\n",
        "\n",
        "for key in dict_data:\n",
        "  sum_dict[key] = sum(dict_data[key])\n",
        "  mean[key] = sum(dict_data[key])/len(dict_data[key])\n",
        "\n",
        "\n",
        "Ax = sum_dict.keys()\n",
        "Ay = sum_dict.values()\n",
        "\n",
        "# Plotando o grafico de barras\n",
        "fig, ax = plt.subplots(figsize=(20,5))\n",
        "plt.bar(Ax, Ay)\n",
        "plt.setp(ax.get_xticklabels(), rotation=45)\n",
        "plt.title('Distribuição Agregada Trafego por Ano', fontsize=14)\n",
        "plt.xlabel('Ano', fontsize=14)\n",
        "plt.ylabel('Engarrafamento em Metros (10^8)', fontsize=14)\n",
        "plt.grid(True)\n",
        "plt.show()"
      ],
      "execution_count": null,
      "outputs": [
        {
          "output_type": "display_data",
          "data": {
            "image/png": "[encoded data removed]",
            "text/plain": [
              "<Figure size 1440x360 with 1 Axes>"
            ]
          },
          "metadata": {
            "tags": [],
            "needs_background": "light"
          }
        }
      ]
    },
    {
      "cell_type": "markdown",
      "metadata": {
        "id": "rgrO79d8yYyT"
      },
      "source": [
        "**No gráfico acima é possível observar há uma taxa de crescimento no trafego de veiculos nos anos de 2002 a 2008. Isto pode ser explicado pelo fato do crescimento da frota de veiculos por causa dos incentivos fiscais.**\n",
        "\n",
        "![Captura de tela de 2021-07-04 10-58-17.png](data:image/png;base64,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)\n",
        "\n",
        "\n",
        "**Fonte:**https://www1.folha.uol.com.br/mercado/2021/01/incentivos-da-uniao-a-montadoras-somam-r-69-bilhoes-de-2000-a-2021.shtml#:~:text=Hoje%2C%20os%20principais%20programas%20para,f%C3%A1bricas%20instaladas%20nas%20tr%C3%AAs%20regi%C3%B5es. "
      ]
    },
    {
      "cell_type": "code",
      "metadata": {
        "id": "S3169Vkdbot8"
      },
      "source": [
        "## Mes\n",
        "## Criando um dicionario e coletando todos os valores de 'jam_size' em um determinado mês\n",
        "\n",
        "dict_data = {}\n",
        "\n",
        "for month in range(1,13):\n",
        "  if month < 10:\n",
        "    find = df_categ_Encoder.loc[df_categ_Encoder['mes'] == '0' + str(month)]\n",
        "    vet_mes = []\n",
        "\n",
        "    for i in find['jam_size']:\n",
        "      vet_mes.append(i)\n",
        "    \n",
        "    dict_data[str(month)] = vet_mes\n",
        "\n",
        "  else:\n",
        "    find = df_categ_Encoder.loc[df_categ_Encoder['mes'] == str(month)]\n",
        "    vet_mes = []\n",
        "\n",
        "    for i in find['jam_size']:\n",
        "      vet_mes.append(i)\n",
        "    \n",
        "    dict_data[str(month)] = vet_mes\n"
      ],
      "execution_count": null,
      "outputs": []
    },
    {
      "cell_type": "code",
      "metadata": {
        "colab": {
          "base_uri": "https://localhost:8080/",
          "height": 301
        },
        "id": "-laLE9G7dQKg",
        "outputId": "efb36ba4-8cb9-41b6-8fc8-0c5545aed9d9"
      },
      "source": [
        "# mes (Agregado)\n",
        "# Somando (agregando) todos os valores de 'jam_size' em seu respectivo mês\n",
        "\n",
        "sum_dict = {}\n",
        "\n",
        "for key in dict_data:\n",
        "  sum_dict[key] = sum(dict_data[key])\n",
        "\n",
        "\n",
        "name_mes = ['Janeiro', 'Fevereiro', 'Março', 'Abril',\n",
        "            'Maio', 'Junho', 'Julho', 'Agosto', 'Setembro', 'Outubro', 'Novembro', 'Dezembro']\n",
        "Ax = name_mes\n",
        "Ay = sum_dict.values()\n",
        "\n",
        "# Plotando o grafico de barras\n",
        "fig, ax = plt.subplots(figsize=(20,5))\n",
        "plt.bar(Ax, Ay)\n",
        "plt.setp(ax.get_xticklabels(), rotation=45)\n",
        "plt.title('Distribuição Agregada Trafego por Mês', fontsize=14)\n",
        "plt.xlabel('Mês', fontsize=14)\n",
        "plt.ylabel('Engarrafamento em Metros (10^8)', fontsize=14)\n",
        "plt.grid(True)\n",
        "plt.show()"
      ],
      "execution_count": null,
      "outputs": [
        {
          "output_type": "display_data",
          "data": {
            "image/png": "[encoded data removed]",
            "text/plain": [
              "<Figure size 1440x360 with 1 Axes>"
            ]
          },
          "metadata": {
            "tags": [],
            "needs_background": "light"
          }
        }
      ]
    },
    {
      "cell_type": "markdown",
      "metadata": {
        "id": "_4mNNrZZx6u1"
      },
      "source": [
        "**Observando a plotagem do gráfico acima é possível extrair que o menor fluxo de veículos esta no mês de Janeiro e Julho. Isto pode ser explicado pelo fato destes meses serem os mais escolhidos para as férias.**"
      ]
    },
    {
      "cell_type": "code",
      "metadata": {
        "id": "3i8p2rirdZT9"
      },
      "source": [
        "### Dia da Semana\n",
        "# Pegando a data e convertendo em dia da semana\n",
        "\n",
        "df_categ_Encoder['data'] =  pd.to_datetime(df_categ_Encoder['data'])\n",
        "\n",
        "df_categ_Encoder['data'] =  pd.to_datetime(df_categ_Encoder['data'], format='%d%b%Y:%H:%M:%S.%f')\n",
        "\n",
        "df_categ_Encoder['day_of_week'] = df_categ_Encoder['data'].dt.day_name()"
      ],
      "execution_count": null,
      "outputs": []
    },
    {
      "cell_type": "code",
      "metadata": {
        "id": "GbyggTZSfFE2"
      },
      "source": [
        "## Criando um dicionario e coletando todos os valores de 'jam_size' em um determinado dia da semana\n",
        "\n",
        "vet_toFind = ['Sunday', 'Monday', 'Tuesday', 'Wednesday', 'Thursday', 'Friday', 'Saturday']\n",
        "dict_week = {}\n",
        "\n",
        "for day_week in vet_toFind:\n",
        "  find = df_categ_Encoder.loc[df_categ_Encoder['day_of_week'] == day_week]\n",
        "  vet_loop = []\n",
        "\n",
        "  for i in find['jam_size']:\n",
        "    vet_loop.append(i)\n",
        "\n",
        "  dict_week[str(day_week)] = vet_loop"
      ],
      "execution_count": null,
      "outputs": []
    },
    {
      "cell_type": "code",
      "metadata": {
        "colab": {
          "base_uri": "https://localhost:8080/",
          "height": 306
        },
        "id": "ebaBpSNPguRP",
        "outputId": "438d22de-3c99-4492-a4c2-ae85e23c40cb"
      },
      "source": [
        "# dia\n",
        "# Somando (agregando) todos os valores de 'jam_size' em seu respectivo dia da semana\n",
        "\n",
        "week_dict = {}\n",
        "\n",
        "for key in dict_week:\n",
        "  week_dict[key] = sum(dict_week[key]) # teste\n",
        "\n",
        "dia_semana = ['Domingo', 'Segunda-feira', 'Terça-feira', 'Quarta-feira',\n",
        "            'Quinta-feira', 'Sexta-feira', 'Sabado']\n",
        "\n",
        "#Ax = week_dict.keys()\n",
        "Ax = dia_semana # teste\n",
        "Ay = week_dict.values()\n",
        "\n",
        "# Plotando o grafico de barras\n",
        "fig, ax = plt.subplots(figsize=(20,5))\n",
        "plt.bar(Ax, Ay)\n",
        "plt.setp(ax.get_xticklabels(), rotation=45)\n",
        "plt.title('Distribuição Média Trafego por Dia', fontsize=14)\n",
        "plt.xlabel('Dia da Semana', fontsize=14)\n",
        "plt.ylabel('Engarrafamento em Metros (10^9)', fontsize=14)\n",
        "plt.grid(True)\n",
        "plt.show()"
      ],
      "execution_count": null,
      "outputs": [
        {
          "output_type": "display_data",
          "data": {
            "image/png": "[encoded data removed]",
            "text/plain": [
              "<Figure size 1440x360 with 1 Axes>"
            ]
          },
          "metadata": {
            "tags": [],
            "needs_background": "light"
          }
        }
      ]
    },
    {
      "cell_type": "markdown",
      "metadata": {
        "id": "hrlwZAM9xgz8"
      },
      "source": [
        "**Observando a plotagem do gráfico acima é possível extrair que o maior fluxo de veículos esta nos dias úteis da semana, tendo seu pico na sexta-feira.**"
      ]
    },
    {
      "cell_type": "code",
      "metadata": {
        "id": "uTMov_miL93F"
      },
      "source": [
        "### Hora\n",
        "## Criando um dicionario e coletando todos os valores de 'jam_size' em uma determinada hora\n",
        "\n",
        "test_dict = {}  # Criando um dicionario\n",
        "\n",
        "for hour in range(24):\n",
        "  if hour < 10:\n",
        "    # Encontrar horas terminadas em 0h:00:00 \n",
        "    find = new_df.loc[new_df['hora'] == '0' + str(hour) + ':' + '00:00'] # Filtrando o DF para horas expecificas\n",
        "    vet_test = [] # Crindo uma lista\n",
        "    \n",
        "    # Fazendo um loop \n",
        "    for i in find['jam_size']:\n",
        "      vet_test.append(i)      \n",
        "    \n",
        "    # Adicionando Key e Lista no dicionario criado acima\n",
        "    test_dict['0' + str(hour) + ':' + '00:00'] = vet_test    \n",
        "    \n",
        "    # ==================\n",
        "\n",
        "    # Encontrar horas terminadas em 0h:30:00 \n",
        "    find_2 = new_df.loc[new_df['hora'] == '0' + str(hour) + ':' + '30:00'] # Filtrando o DF para horas expecificas\n",
        "    vet_test_2 = [] # Crindo uma lista\n",
        "\n",
        "    # Fazendo um loop \n",
        "    for k in find_2['jam_size']:\n",
        "      vet_test_2.append(k)      \n",
        "    \n",
        "    # Adicionando Key e Lista no dicionario criado acima\n",
        "    test_dict['0' + str(hour) + ':' + '30:00'] = vet_test_2\n",
        "\n",
        "  else:\n",
        "    # Encontrar horas terminadas em hh:00:00 \n",
        "    find = new_df.loc[new_df['hora'] == str(hour) + ':' + '00:00'] # Filtrando o DF para horas expecificas\n",
        "    vet_test = [] # Crindo uma lista\n",
        "    \n",
        "    # Fazendo um loop \n",
        "    for i in find['jam_size']:\n",
        "      vet_test.append(i)      \n",
        "    \n",
        "    # Adicionando Key e Lista no dicionario criado acima\n",
        "    test_dict[str(hour) + ':' + '00:00'] = vet_test    \n",
        "    \n",
        "    # ==================\n",
        "\n",
        "    # Encontrar horas terminadas em hh:30:00 \n",
        "    find_2 = new_df.loc[new_df['hora'] == str(hour) + ':' + '30:00'] # Filtrando o DF para horas expecificas\n",
        "    vet_test_2 = [] # Crindo uma lista\n",
        "\n",
        "    # Fazendo um loop \n",
        "    for k in find_2['jam_size']:\n",
        "      vet_test_2.append(k)      \n",
        "    \n",
        "    # Adicionando Key e Lista no dicionario criado acima\n",
        "    test_dict[str(hour) + ':' + '30:00'] = vet_test_2"
      ],
      "execution_count": null,
      "outputs": []
    },
    {
      "cell_type": "code",
      "metadata": {
        "colab": {
          "base_uri": "https://localhost:8080/",
          "height": 296
        },
        "id": "b9TI8-1GMeKM",
        "outputId": "1c31ca51-ec2f-4105-e9e0-57c111c2ca4f"
      },
      "source": [
        "# Hora (agregado)\n",
        "# Somando (agregando) todos os valores de 'jam_size' em sua respectiva hora\n",
        "\n",
        "sum_dict = {}\n",
        "\n",
        "for key in test_dict:\n",
        "  sum_dict[key] = sum(test_dict[key])\n",
        "\n",
        "Ax = sum_dict.keys()\n",
        "Ay = sum_dict.values()\n",
        "\n",
        "# Plotando o grafico de barras\n",
        "fig, ax = plt.subplots(figsize=(20,5))\n",
        "plt.bar(Ax, Ay)\n",
        "plt.setp(ax.get_xticklabels(), rotation=45)\n",
        "plt.title('Distribuição Agregada Trafego por Hora', fontsize=14)\n",
        "plt.xlabel('Hora', fontsize=14)\n",
        "plt.ylabel('Engarrafamento em Metros (10^8)', fontsize=14)\n",
        "plt.grid(True)\n",
        "plt.show()"
      ],
      "execution_count": null,
      "outputs": [
        {
          "output_type": "display_data",
          "data": {
            "image/png": "[encoded data removed]",
            "text/plain": [
              "<Figure size 1440x360 with 1 Axes>"
            ]
          },
          "metadata": {
            "tags": [],
            "needs_background": "light"
          }
        }
      ]
    },
    {
      "cell_type": "markdown",
      "metadata": {
        "id": "CFbjXBwGwobq"
      },
      "source": [
        "**Observando a plotagem do gráfico acima é possível extrair que o maior fluxo de veículos esta entre as 6:30 e 21:30, tendo seus picos 9:00 e 19:00.**"
      ]
    },
    {
      "cell_type": "code",
      "metadata": {
        "id": "SQq-C422i_bM"
      },
      "source": [
        "df_categ_Encoder.to_csv('dataframe_Encod.csv', index=False)\n",
        "df_categ_Encoder.to_feather('dataframe_Encod.feather')"
      ],
      "execution_count": null,
      "outputs": []
    },
    {
      "cell_type": "code",
      "metadata": {
        "colab": {
          "base_uri": "https://localhost:8080/",
          "height": 779
        },
        "id": "mc8eUBYJerKe",
        "outputId": "c5679ad8-ad71-4690-916d-6fea5b5bafc5"
      },
      "source": [
        "df_categ_Encoder"
      ],
      "execution_count": null,
      "outputs": [
        {
          "output_type": "execute_result",
          "data": {
            "text/html": [
              "<div>\n",
              "<style scoped>\n",
              "    .dataframe tbody tr th:only-of-type {\n",
              "        vertical-align: middle;\n",
              "    }\n",
              "\n",
              "    .dataframe tbody tr th {\n",
              "        vertical-align: top;\n",
              "    }\n",
              "\n",
              "    .dataframe thead th {\n",
              "        text-align: right;\n",
              "    }\n",
              "</style>\n",
              "<table border=\"1\" class=\"dataframe\">\n",
              "  <thead>\n",
              "    <tr style=\"text-align: right;\">\n",
              "      <th></th>\n",
              "      <th>index</th>\n",
              "      <th>passage_Encod</th>\n",
              "      <th>direction_Encod</th>\n",
              "      <th>type_Encod</th>\n",
              "      <th>region_Encod</th>\n",
              "      <th>timestamp</th>\n",
              "      <th>jam_size</th>\n",
              "      <th>jam_size_Encod</th>\n",
              "      <th>segment_Encod</th>\n",
              "      <th>data</th>\n",
              "      <th>hora</th>\n",
              "      <th>hora_Encod</th>\n",
              "      <th>data_Encod</th>\n",
              "      <th>ano</th>\n",
              "      <th>mes</th>\n",
              "      <th>dia</th>\n",
              "      <th>day_of_week</th>\n",
              "    </tr>\n",
              "  </thead>\n",
              "  <tbody>\n",
              "    <tr>\n",
              "      <th>0</th>\n",
              "      <td>0</td>\n",
              "      <td>153</td>\n",
              "      <td>101</td>\n",
              "      <td>2</td>\n",
              "      <td>3</td>\n",
              "      <td>2015-01-04 14:30:00</td>\n",
              "      <td>799</td>\n",
              "      <td>748</td>\n",
              "      <td>99695</td>\n",
              "      <td>2015-01-04</td>\n",
              "      <td>14:30:00</td>\n",
              "      <td>29</td>\n",
              "      <td>4745</td>\n",
              "      <td>2015</td>\n",
              "      <td>01</td>\n",
              "      <td>04</td>\n",
              "      <td>Sunday</td>\n",
              "    </tr>\n",
              "    <tr>\n",
              "      <th>1</th>\n",
              "      <td>1</td>\n",
              "      <td>151</td>\n",
              "      <td>29</td>\n",
              "      <td>2</td>\n",
              "      <td>5</td>\n",
              "      <td>2015-01-04 14:30:00</td>\n",
              "      <td>260</td>\n",
              "      <td>209</td>\n",
              "      <td>533</td>\n",
              "      <td>2015-01-04</td>\n",
              "      <td>14:30:00</td>\n",
              "      <td>29</td>\n",
              "      <td>4745</td>\n",
              "      <td>2015</td>\n",
              "      <td>01</td>\n",
              "      <td>04</td>\n",
              "      <td>Sunday</td>\n",
              "    </tr>\n",
              "    <tr>\n",
              "      <th>2</th>\n",
              "      <td>2</td>\n",
              "      <td>153</td>\n",
              "      <td>101</td>\n",
              "      <td>2</td>\n",
              "      <td>3</td>\n",
              "      <td>2015-01-04 15:00:00</td>\n",
              "      <td>799</td>\n",
              "      <td>748</td>\n",
              "      <td>99695</td>\n",
              "      <td>2015-01-04</td>\n",
              "      <td>15:00:00</td>\n",
              "      <td>30</td>\n",
              "      <td>4745</td>\n",
              "      <td>2015</td>\n",
              "      <td>01</td>\n",
              "      <td>04</td>\n",
              "      <td>Sunday</td>\n",
              "    </tr>\n",
              "    <tr>\n",
              "      <th>3</th>\n",
              "      <td>3</td>\n",
              "      <td>151</td>\n",
              "      <td>29</td>\n",
              "      <td>2</td>\n",
              "      <td>5</td>\n",
              "      <td>2015-01-04 15:00:00</td>\n",
              "      <td>260</td>\n",
              "      <td>209</td>\n",
              "      <td>533</td>\n",
              "      <td>2015-01-04</td>\n",
              "      <td>15:00:00</td>\n",
              "      <td>30</td>\n",
              "      <td>4745</td>\n",
              "      <td>2015</td>\n",
              "      <td>01</td>\n",
              "      <td>04</td>\n",
              "      <td>Sunday</td>\n",
              "    </tr>\n",
              "    <tr>\n",
              "      <th>4</th>\n",
              "      <td>4</td>\n",
              "      <td>153</td>\n",
              "      <td>101</td>\n",
              "      <td>2</td>\n",
              "      <td>3</td>\n",
              "      <td>2015-01-04 15:30:00</td>\n",
              "      <td>799</td>\n",
              "      <td>748</td>\n",
              "      <td>99695</td>\n",
              "      <td>2015-01-04</td>\n",
              "      <td>15:30:00</td>\n",
              "      <td>31</td>\n",
              "      <td>4745</td>\n",
              "      <td>2015</td>\n",
              "      <td>01</td>\n",
              "      <td>04</td>\n",
              "      <td>Sunday</td>\n",
              "    </tr>\n",
              "    <tr>\n",
              "      <th>...</th>\n",
              "      <td>...</td>\n",
              "      <td>...</td>\n",
              "      <td>...</td>\n",
              "      <td>...</td>\n",
              "      <td>...</td>\n",
              "      <td>...</td>\n",
              "      <td>...</td>\n",
              "      <td>...</td>\n",
              "      <td>...</td>\n",
              "      <td>...</td>\n",
              "      <td>...</td>\n",
              "      <td>...</td>\n",
              "      <td>...</td>\n",
              "      <td>...</td>\n",
              "      <td>...</td>\n",
              "      <td>...</td>\n",
              "      <td>...</td>\n",
              "    </tr>\n",
              "    <tr>\n",
              "      <th>5223443</th>\n",
              "      <td>5223443</td>\n",
              "      <td>170</td>\n",
              "      <td>33</td>\n",
              "      <td>0</td>\n",
              "      <td>3</td>\n",
              "      <td>2018-09-30 18:30:00</td>\n",
              "      <td>3820</td>\n",
              "      <td>3769</td>\n",
              "      <td>75974</td>\n",
              "      <td>2018-09-30</td>\n",
              "      <td>18:30:00</td>\n",
              "      <td>37</td>\n",
              "      <td>6093</td>\n",
              "      <td>2018</td>\n",
              "      <td>09</td>\n",
              "      <td>30</td>\n",
              "      <td>Sunday</td>\n",
              "    </tr>\n",
              "    <tr>\n",
              "      <th>5223444</th>\n",
              "      <td>5223444</td>\n",
              "      <td>170</td>\n",
              "      <td>33</td>\n",
              "      <td>1</td>\n",
              "      <td>3</td>\n",
              "      <td>2018-09-30 19:00:00</td>\n",
              "      <td>4640</td>\n",
              "      <td>4587</td>\n",
              "      <td>76072</td>\n",
              "      <td>2018-09-30</td>\n",
              "      <td>19:00:00</td>\n",
              "      <td>38</td>\n",
              "      <td>6093</td>\n",
              "      <td>2018</td>\n",
              "      <td>09</td>\n",
              "      <td>30</td>\n",
              "      <td>Sunday</td>\n",
              "    </tr>\n",
              "    <tr>\n",
              "      <th>5223445</th>\n",
              "      <td>5223445</td>\n",
              "      <td>170</td>\n",
              "      <td>33</td>\n",
              "      <td>0</td>\n",
              "      <td>3</td>\n",
              "      <td>2018-09-30 19:00:00</td>\n",
              "      <td>3820</td>\n",
              "      <td>3769</td>\n",
              "      <td>75974</td>\n",
              "      <td>2018-09-30</td>\n",
              "      <td>19:00:00</td>\n",
              "      <td>38</td>\n",
              "      <td>6093</td>\n",
              "      <td>2018</td>\n",
              "      <td>09</td>\n",
              "      <td>30</td>\n",
              "      <td>Sunday</td>\n",
              "    </tr>\n",
              "    <tr>\n",
              "      <th>5223446</th>\n",
              "      <td>5223446</td>\n",
              "      <td>170</td>\n",
              "      <td>33</td>\n",
              "      <td>1</td>\n",
              "      <td>3</td>\n",
              "      <td>2018-09-30 19:30:00</td>\n",
              "      <td>4640</td>\n",
              "      <td>4587</td>\n",
              "      <td>76072</td>\n",
              "      <td>2018-09-30</td>\n",
              "      <td>19:30:00</td>\n",
              "      <td>39</td>\n",
              "      <td>6093</td>\n",
              "      <td>2018</td>\n",
              "      <td>09</td>\n",
              "      <td>30</td>\n",
              "      <td>Sunday</td>\n",
              "    </tr>\n",
              "    <tr>\n",
              "      <th>5223447</th>\n",
              "      <td>5223447</td>\n",
              "      <td>170</td>\n",
              "      <td>33</td>\n",
              "      <td>0</td>\n",
              "      <td>3</td>\n",
              "      <td>2018-09-30 19:30:00</td>\n",
              "      <td>3820</td>\n",
              "      <td>3769</td>\n",
              "      <td>75974</td>\n",
              "      <td>2018-09-30</td>\n",
              "      <td>19:30:00</td>\n",
              "      <td>39</td>\n",
              "      <td>6093</td>\n",
              "      <td>2018</td>\n",
              "      <td>09</td>\n",
              "      <td>30</td>\n",
              "      <td>Sunday</td>\n",
              "    </tr>\n",
              "  </tbody>\n",
              "</table>\n",
              "<p>5223448 rows × 17 columns</p>\n",
              "</div>"
            ],
            "text/plain": [
              "           index  passage_Encod  direction_Encod  ...  mes  dia day_of_week\n",
              "0              0            153              101  ...   01   04      Sunday\n",
              "1              1            151               29  ...   01   04      Sunday\n",
              "2              2            153              101  ...   01   04      Sunday\n",
              "3              3            151               29  ...   01   04      Sunday\n",
              "4              4            153              101  ...   01   04      Sunday\n",
              "...          ...            ...              ...  ...  ...  ...         ...\n",
              "5223443  5223443            170               33  ...   09   30      Sunday\n",
              "5223444  5223444            170               33  ...   09   30      Sunday\n",
              "5223445  5223445            170               33  ...   09   30      Sunday\n",
              "5223446  5223446            170               33  ...   09   30      Sunday\n",
              "5223447  5223447            170               33  ...   09   30      Sunday\n",
              "\n",
              "[5223448 rows x 17 columns]"
            ]
          },
          "metadata": {
            "tags": []
          },
          "execution_count": 52
        }
      ]
    },
    {
      "cell_type": "markdown",
      "metadata": {
        "id": "4rSOecSQjbBz"
      },
      "source": [
        "# Parte 2 - Predição de engarrafamento"
      ]
    },
    {
      "cell_type": "markdown",
      "metadata": {
        "id": "hWSesTRU0pe1"
      },
      "source": [
        "**Para o treinamento do classificador, será utilizado o dataset fornecido pela empresa. Cmo foi observado anteriormente o menor valor da coluna 'jam_size' (responsavel por informar o tamanho do congestionamento em metros) é 51, ou seja, o banco não fornece exemplos de quando não há congestionamento. Portando, foi adotado e criado uma coluna 'engarraf' que indica 1 quando 'não tem engarrafamento' e 2 quando engarrafamento. Os criterios para a escolha de quando não existe engarrafamento é quando o 'jam_size' é menor ou igual a 400 metros em uma rua/avenida.**"
      ]
    },
    {
      "cell_type": "markdown",
      "metadata": {
        "id": "Jq3iuGC_SElR"
      },
      "source": [
        "## **K-Means:**"
      ]
    },
    {
      "cell_type": "markdown",
      "metadata": {
        "id": "lRBkJIITZtVO"
      },
      "source": [
        "O K-Means é um algoritmo do tipo não supervisionado, ou seja, que não trabalha com dados rotulados. O objetivo desse algoritmo é encontrar similaridades entre os dados e agrupá-los conforme o número de cluster passado pelo argumento \"k\"."
      ]
    },
    {
      "cell_type": "markdown",
      "metadata": {
        "id": "IBkr926J9kpp"
      },
      "source": [
        "**Para o treinamento do classificador, será utilizado o dataset fornecido pela empresa. E como foi observado anteriormente o menor valor da coluna 'jam_size' (responsavel por informar o tamanho do congestionamento em metros) é 51, ou seja, o banco não fornece exemplos de quando não há congestionamento. Portando, foi adotado e criado uma coluna 'engarraf' que indica 0 quando 'não tem engarrafamento' e 1 quando engarrafamento. Os criterios para a escolha de quando não existe engarrafamento é quando o 'jam_size' é menor ou igual a 400 metros em uma rua/avenida.**"
      ]
    },
    {
      "cell_type": "code",
      "metadata": {
        "id": "NU3IubZK8Uvk"
      },
      "source": [
        "banco = pd.DataFrame()\n",
        "\n",
        "banco['passage'] = df_categ_Encoder['passage_Encod']\n",
        "banco['hora'] = LE.fit_transform(df_categ_Encoder['hora'])"
      ],
      "execution_count": null,
      "outputs": []
    },
    {
      "cell_type": "code",
      "metadata": {
        "id": "nu1MRM128Uvm"
      },
      "source": [
        "# Gerando coluna responsavel por informa se existe ou não engarrafamento\n",
        "\n",
        "vet_engarraf = []\n",
        "\n",
        "for i in df_categ_Encoder['jam_size']:\n",
        "  i = int(i)\n",
        "  if i <= 400:\n",
        "    engarraf = 0\n",
        "    vet_engarraf.append(engarraf)\n",
        "  else:\n",
        "    engarraf = 1\n",
        "    vet_engarraf.append(engarraf)\n",
        "\n",
        "banco['engarraf'] = vet_engarraf\n",
        "banco = shuffle(banco)"
      ],
      "execution_count": null,
      "outputs": []
    },
    {
      "cell_type": "code",
      "metadata": {
        "id": "QqkDk4B54P6I"
      },
      "source": [
        "# Fazendo a separação do banco em treino (80%) e teste (20%)\n",
        "\n",
        "teste = []\n",
        "banco = shuffle(banco)\n",
        "\n",
        "find_0 = banco.loc[banco['engarraf'] == 0]\n",
        "find_1 = banco.loc[banco['engarraf'] == 1]\n",
        "\n",
        "tamTrain_0 = len(find_0) * .8\n",
        "tamTrain_1 = len(find_1) * .8\n",
        "\n",
        "training_samples_0 = int(len(find_0) * .8)\n",
        "validation_samples_0 = len(find_0) - training_samples_0\n",
        "\n",
        "\n",
        "training_samples_1 = int(len(find_1) * .8)\n",
        "validation_samples_1 = len(find_1) - training_samples_1"
      ],
      "execution_count": null,
      "outputs": []
    },
    {
      "cell_type": "code",
      "metadata": {
        "id": "aqx5lzWZ4P6J"
      },
      "source": [
        "train_get_0 = find_0[:training_samples_0]\n",
        "val_get_0 = find_0[training_samples_0:training_samples_0 + validation_samples_0]\n",
        "\n",
        "train_get_1 = find_1[:training_samples_1]\n",
        "val_get_1 = find_1[training_samples_1:training_samples_1 + validation_samples_1]"
      ],
      "execution_count": null,
      "outputs": []
    },
    {
      "cell_type": "code",
      "metadata": {
        "id": "Y_KTsLgE4P6K"
      },
      "source": [
        "frames = [train_get_0, train_get_1]\n",
        "\n",
        "df_train_full = pd.concat(frames)\n",
        "df_train_full = shuffle(df_train_full)\n",
        "#df_train_full.to_csv('banco_treino.csv', index=False)"
      ],
      "execution_count": null,
      "outputs": []
    },
    {
      "cell_type": "code",
      "metadata": {
        "id": "v4iwqcj-4P6L"
      },
      "source": [
        "frames = [val_get_0, val_get_1]\n",
        "\n",
        "df_val_full = pd.concat(frames)\n",
        "df_val_full = shuffle(df_val_full)\n",
        "#df_val_full.to_csv('banco_val.csv', index=False)"
      ],
      "execution_count": null,
      "outputs": []
    },
    {
      "cell_type": "code",
      "metadata": {
        "id": "gASa2m4I4GYy"
      },
      "source": [
        "# Separando o banco de dados.\n",
        "\n",
        "X_train = np.array(df_train_full.drop(['engarraf'], 1).astype(float))\n",
        "X_val = np.array(df_val_full.drop(['engarraf'], 1).astype(float))"
      ],
      "execution_count": null,
      "outputs": []
    },
    {
      "cell_type": "code",
      "metadata": {
        "id": "wsMfcj-o4GYz"
      },
      "source": [
        "# Separando o banco de dados.\n",
        "\n",
        "y_train = np.array(df_train_full['engarraf'])\n",
        "y_val = np.array(df_val_full['engarraf'])"
      ],
      "execution_count": null,
      "outputs": []
    },
    {
      "cell_type": "code",
      "metadata": {
        "id": "qfnG3Xgt4GYz"
      },
      "source": [
        "scaler = MinMaxScaler()\n",
        "X_scaled = scaler.fit_transform(X_train)"
      ],
      "execution_count": null,
      "outputs": []
    },
    {
      "cell_type": "code",
      "metadata": {
        "colab": {
          "base_uri": "https://localhost:8080/"
        },
        "id": "R3PSl7LW4GYz",
        "outputId": "4f0c1cc6-6544-4ca2-ac81-0f00b4afcdcc"
      },
      "source": [
        "# Treinando o modelo\n",
        "\n",
        "kmeans = KMeans(n_clusters=2, max_iter=1200, algorithm = 'auto')\n",
        "kmeans.fit(X_scaled)"
      ],
      "execution_count": null,
      "outputs": [
        {
          "output_type": "execute_result",
          "data": {
            "text/plain": [
              "KMeans(algorithm='auto', copy_x=True, init='k-means++', max_iter=1200,\n",
              "       n_clusters=2, n_init=10, n_jobs=None, precompute_distances='auto',\n",
              "       random_state=None, tol=0.0001, verbose=0)"
            ]
          },
          "metadata": {
            "tags": []
          },
          "execution_count": 44
        }
      ]
    },
    {
      "cell_type": "code",
      "metadata": {
        "id": "kpYJhx3t4GY0"
      },
      "source": [
        "# Salvando o modelo\n",
        "pickle.dump(kmeans, open(\"kmeans_2.pkl\", \"wb\"))"
      ],
      "execution_count": null,
      "outputs": []
    },
    {
      "cell_type": "code",
      "metadata": {
        "id": "rX9nI1Fg4GY1"
      },
      "source": [
        "# Carregando o modelo\n",
        "model = pickle.load(open(\"kmeans_2.pkl\", \"rb\"))"
      ],
      "execution_count": null,
      "outputs": []
    },
    {
      "cell_type": "markdown",
      "metadata": {
        "id": "CU_KX6_3aBna"
      },
      "source": [
        "**Gerando as métricas**"
      ]
    },
    {
      "cell_type": "code",
      "metadata": {
        "colab": {
          "base_uri": "https://localhost:8080/"
        },
        "id": "APBjklZ-4GY1",
        "outputId": "54e087c4-7aec-4e9a-f05b-e4f7da5fc6c0"
      },
      "source": [
        "## Acuracia: Acurácia: indica uma performance geral do modelo. Dentre todas as \n",
        "## classificações, quantas o modelo classificou corretamente.\n",
        "\n",
        "pred = []\n",
        "correct = 0\n",
        "for i in range(len(X_val)):\n",
        "    predict_me = np.array(X_val[i].astype(float))\n",
        "    predict_me = predict_me.reshape(-1, len(predict_me))\n",
        "    prediction = model.predict(predict_me)\n",
        "    pred.append(prediction[0])\n",
        "    if prediction[0] == y_val[i]:\n",
        "        correct += 1\n",
        "\n",
        "print(correct/len(X_val))"
      ],
      "execution_count": null,
      "outputs": [
        {
          "output_type": "stream",
          "text": [
            "0.14920201284398926\n"
          ],
          "name": "stdout"
        }
      ]
    },
    {
      "cell_type": "code",
      "metadata": {
        "id": "1uE5uF7H-bpA"
      },
      "source": [
        "## Criando um dataframe e salvando os resultados.\n",
        "dados_saida = pd.DataFrame()\n",
        "\n",
        "dados_saida['Real'] = y_val\n",
        "dados_saida['Pred'] = pred"
      ],
      "execution_count": null,
      "outputs": []
    },
    {
      "cell_type": "code",
      "metadata": {
        "id": "0zlLlo7Muj-R"
      },
      "source": [
        "## Calculando a precisão/precision, recall e f_score\n",
        "\n",
        "# Precisão/Precision: dentre todas as classificações de classe Positivo que o \n",
        "#                     modelo fez, quantas estão corretas.\n",
        "\n",
        "# Recall: dentre todas as situações de classe Positivo como valor esperado, \n",
        "#         quantas estão corretas;\n",
        "\n",
        "# Fscore: média harmônica entre precisão e recall.\n",
        "\n",
        "precision, recall, fscore, teste = precision_recall_fscore_support(dados_saida['Real'], dados_saida['Pred'], average='macro')"
      ],
      "execution_count": null,
      "outputs": []
    },
    {
      "cell_type": "code",
      "metadata": {
        "id": "POKRun9z2GXG"
      },
      "source": [
        "# Salvando as metricas no dataframe criado.\n",
        "\n",
        "dados_saida['Precison'] = precision\n",
        "dados_saida['Recall'] = recall\n",
        "dados_saida['fscore'] = fscore\n",
        "\n",
        "dados_saida.to_csv('dados_saida_kmeans_2.csv', index=False)"
      ],
      "execution_count": null,
      "outputs": []
    },
    {
      "cell_type": "code",
      "metadata": {
        "id": "Btlwvxc0uj-V"
      },
      "source": [
        "# Calculo da matriz de confusão.\n",
        "\n",
        "cm = confusion_matrix(dados_saida['Real'], dados_saida['Pred'])"
      ],
      "execution_count": null,
      "outputs": []
    },
    {
      "cell_type": "code",
      "metadata": {
        "colab": {
          "base_uri": "https://localhost:8080/",
          "height": 300
        },
        "id": "lLIaWNc-uj-W",
        "outputId": "9bf85bcd-c22c-45fa-b9d4-e1fd4cdbb4de"
      },
      "source": [
        "disp = ConfusionMatrixDisplay(confusion_matrix=cm, display_labels=['0','1'])\n",
        "disp.plot()\n",
        "\n",
        "plt.title('Matriz de Confusão', fontsize=14)\n",
        "plt.xlabel('Predição', fontsize=14)\n",
        "plt.ylabel('Verdadeiro', fontsize=14)\n",
        "plt.show()"
      ],
      "execution_count": null,
      "outputs": [
        {
          "output_type": "display_data",
          "data": {
            "image/png": "[encoded data removed]",
            "text/plain": [
              "<Figure size 432x288 with 2 Axes>"
            ]
          },
          "metadata": {
            "tags": [],
            "needs_background": "light"
          }
        }
      ]
    },
    {
      "cell_type": "markdown",
      "metadata": {
        "id": "IL55r_vZsMwd"
      },
      "source": [
        "**Esta técnica obteve uma acuracia de 14,92%, precisão de 54,04% e um recall de 50%. Mostrando-se limitada para a devida classificação.**"
      ]
    },
    {
      "cell_type": "markdown",
      "metadata": {
        "id": "KgyxxtYG9Lrh"
      },
      "source": [
        "## **Random Forest Classifier:**"
      ]
    },
    {
      "cell_type": "markdown",
      "metadata": {
        "id": "T0lyKhEaZ1vn"
      },
      "source": [
        "A floresta aleatória ou floresta de decisão aleatória é um algoritmo de aprendizado de máquina supervisionado usado para classificação."
      ]
    },
    {
      "cell_type": "code",
      "metadata": {
        "id": "Gm_j17q89bQ8"
      },
      "source": [
        "# Criando o banco de dados\n",
        "\n",
        "banco_ = pd.DataFrame()\n",
        "\n",
        "banco_['passage'] = df_categ_Encoder['passage_Encod']\n",
        "banco_['hora'] = LE.fit_transform(df_categ_Encoder['hora'])"
      ],
      "execution_count": null,
      "outputs": []
    },
    {
      "cell_type": "markdown",
      "metadata": {
        "id": "y9-mZNEM9bQ-"
      },
      "source": [
        "**Para o treinamento do classificador, será utilizado o dataset fornecido pela empresa. E como foi observado anteriormente o menor valor da coluna 'jam_size' (responsavel por informar o tamanho do congestionamento em metros) é 51, ou seja, o banco não fornece exemplos de quando não há congestionamento. Portando, foi adotado e criado uma coluna 'engarraf' que indica 1 quando 'não tem engarrafamento' e 2 quando engarrafamento. Os criterios para a escolha de quando não existe engarrafamento é quando o 'jam_size' é menor ou igual a 400 metros em uma rua/avenida.**"
      ]
    },
    {
      "cell_type": "code",
      "metadata": {
        "id": "S19bn7Vn9bQ_"
      },
      "source": [
        "# Gerando coluna responsavel por informa se existe ou não engarrafamento\n",
        "\n",
        "vet_engarraf = []\n",
        "\n",
        "for i in df_categ_Encoder['jam_size']:\n",
        "  i = int(i)\n",
        "  if i <= 400:\n",
        "    engarraf = 1\n",
        "    vet_engarraf.append(engarraf)\n",
        "  else:\n",
        "    engarraf = 2\n",
        "    vet_engarraf.append(engarraf)\n",
        "\n",
        "banco_['engarraf'] = vet_engarraf\n",
        "banco_ = shuffle(banco)"
      ],
      "execution_count": null,
      "outputs": []
    },
    {
      "cell_type": "code",
      "metadata": {
        "id": "IRBmkO3uS1pW"
      },
      "source": [
        "# Os 'labels' são os valores que queremos prever\n",
        "labels = np.array(banco_['engarraf'])\n",
        "\n",
        "# Remove os labels das 'features', axis 1 refere-se às colunas\n",
        "features = banco_.drop('engarraf', axis = 1)\n",
        "\n",
        "# Salva os nomes das features para uso posterior\n",
        "feature_list = list(features.columns)\n",
        "\n",
        "# Converte para numpy array\n",
        "features = np.array(features)"
      ],
      "execution_count": null,
      "outputs": []
    },
    {
      "cell_type": "code",
      "metadata": {
        "id": "DuwIFJCXS1pX"
      },
      "source": [
        "# Separa o banco de treino e teste a partir da função do Scikit-Learn\n",
        "train_features, test_features, train_labels, test_labels = train_test_split(features, labels, test_size = 0.25, random_state = 42)"
      ],
      "execution_count": null,
      "outputs": []
    },
    {
      "cell_type": "code",
      "metadata": {
        "colab": {
          "base_uri": "https://localhost:8080/"
        },
        "id": "dPstw2J2S1pX",
        "outputId": "b1fe46c1-83bd-4a18-de5a-c59d69a171a1"
      },
      "source": [
        "print('Training Features Shape:', train_features.shape)\n",
        "print('Training Labels Shape:', train_labels.shape)\n",
        "print('Testing Features Shape:', test_features.shape)\n",
        "print('Testing Labels Shape:', test_labels.shape)"
      ],
      "execution_count": null,
      "outputs": [
        {
          "output_type": "stream",
          "text": [
            "Training Features Shape: (3917586, 2)\n",
            "Training Labels Shape: (3917586,)\n",
            "Testing Features Shape: (1305862, 2)\n",
            "Testing Labels Shape: (1305862,)\n"
          ],
          "name": "stdout"
        }
      ]
    },
    {
      "cell_type": "code",
      "metadata": {
        "colab": {
          "base_uri": "https://localhost:8080/"
        },
        "id": "JDXgcMKfun1d",
        "outputId": "4b21398e-f0e0-4c19-d1d7-148ff6166149"
      },
      "source": [
        "# Treinando o modelo.\n",
        "\n",
        "rnd_clf = RandomForestClassifier(n_estimators=100, random_state=42, n_jobs=-1, max_leaf_nodes=16)\n",
        "rnd_clf.fit(train_features, train_labels)"
      ],
      "execution_count": null,
      "outputs": [
        {
          "output_type": "execute_result",
          "data": {
            "text/plain": [
              "RandomForestClassifier(bootstrap=True, ccp_alpha=0.0, class_weight=None,\n",
              "                       criterion='gini', max_depth=None, max_features='auto',\n",
              "                       max_leaf_nodes=16, max_samples=None,\n",
              "                       min_impurity_decrease=0.0, min_impurity_split=None,\n",
              "                       min_samples_leaf=1, min_samples_split=2,\n",
              "                       min_weight_fraction_leaf=0.0, n_estimators=100,\n",
              "                       n_jobs=-1, oob_score=False, random_state=42, verbose=0,\n",
              "                       warm_start=False)"
            ]
          },
          "metadata": {
            "tags": []
          },
          "execution_count": 152
        }
      ]
    },
    {
      "cell_type": "code",
      "metadata": {
        "id": "lQyHmMZXxMgF"
      },
      "source": [
        "# Salvando o modelo\n",
        "pickle.dump(rnd_clf, open(\"RandomForestClass.pkl\", \"wb\"))"
      ],
      "execution_count": null,
      "outputs": []
    },
    {
      "cell_type": "code",
      "metadata": {
        "id": "1yn7R4w1xMgG"
      },
      "source": [
        "# Carregando o modelo\n",
        "model = pickle.load(open(\"RandomForestClass.pkl\", \"rb\"))"
      ],
      "execution_count": null,
      "outputs": []
    },
    {
      "cell_type": "code",
      "metadata": {
        "id": "PevkXbj1vHH7"
      },
      "source": [
        "# Fazendo a predição/classificação\n",
        "y_pred_rf = model.predict(test_features)"
      ],
      "execution_count": null,
      "outputs": []
    },
    {
      "cell_type": "code",
      "metadata": {
        "colab": {
          "base_uri": "https://localhost:8080/"
        },
        "id": "0BDJ-US-w-KS",
        "outputId": "840196a3-7659-4952-9945-a696ae095f53"
      },
      "source": [
        "# Calculando o erro medio absoluto em porcentagem\n",
        "mape = 100 * (errors / test_labels)\n",
        "# Calculando a acuracia\n",
        "accuracy = 100 - np.mean(mape)\n",
        "# Exibindo a acuracia\n",
        "print('Accuracy:', round(accuracy, 2), '%.')"
      ],
      "execution_count": null,
      "outputs": [
        {
          "output_type": "stream",
          "text": [
            "Accuracy: 87.21 %.\n"
          ],
          "name": "stdout"
        }
      ]
    },
    {
      "cell_type": "code",
      "metadata": {
        "id": "QJCqEBDoJlQ9"
      },
      "source": [
        "t = []\n",
        "for i in y_pred_rf:\n",
        "  t.append(i)"
      ],
      "execution_count": null,
      "outputs": []
    },
    {
      "cell_type": "code",
      "metadata": {
        "id": "3hLGhNj7JlQ9"
      },
      "source": [
        "j = []\n",
        "for i in test_labels:\n",
        "  j.append(i)"
      ],
      "execution_count": null,
      "outputs": []
    },
    {
      "cell_type": "code",
      "metadata": {
        "id": "Yo8sDM3YJlQ-"
      },
      "source": [
        "# Gerando o dataframe que ira armazenar os resultados\n",
        "\n",
        "result_class = pd.DataFrame()\n",
        "\n",
        "result_class['Real'] = j\n",
        "result_class['Pred'] = t"
      ],
      "execution_count": null,
      "outputs": []
    },
    {
      "cell_type": "code",
      "metadata": {
        "id": "giPlG6j6uXVV"
      },
      "source": [
        "## Calculando a precisão/precision, recall e f_score\n",
        "\n",
        "# Precisão/Precision: dentre todas as classificações de classe Positivo que o \n",
        "#                     modelo fez, quantas estão corretas.\n",
        "\n",
        "# Recall: dentre todas as situações de classe Positivo como valor esperado, \n",
        "#         quantas estão corretas;\n",
        "\n",
        "# Fscore: média harmônica entre precisão e recall.\n",
        "\n",
        "precision, recall, fscore, support = precision_recall_fscore_support(result_class['Real'], result_class['Pred'], average='macro')"
      ],
      "execution_count": null,
      "outputs": []
    },
    {
      "cell_type": "code",
      "metadata": {
        "id": "6cG-DbtqvKYg"
      },
      "source": [
        "result_class = pd.read_csv('/content/result_class.csv')"
      ],
      "execution_count": null,
      "outputs": []
    },
    {
      "cell_type": "code",
      "metadata": {
        "id": "S0mmTZqhuXVZ"
      },
      "source": [
        "cm = confusion_matrix(result_class['Real'], result_class['Pred'])"
      ],
      "execution_count": null,
      "outputs": []
    },
    {
      "cell_type": "code",
      "metadata": {
        "colab": {
          "base_uri": "https://localhost:8080/",
          "height": 300
        },
        "id": "SVELmgoruXVZ",
        "outputId": "4ed6dec7-cca8-4f68-89bb-58e177b37144"
      },
      "source": [
        "disp = ConfusionMatrixDisplay(confusion_matrix=cm, display_labels=['1','2'])\n",
        "disp.plot()\n",
        "\n",
        "plt.title('Matriz de Confusão', fontsize=14)\n",
        "plt.xlabel('Predição', fontsize=14)\n",
        "plt.ylabel('Verdadeiro', fontsize=14)\n",
        "plt.show()"
      ],
      "execution_count": null,
      "outputs": [
        {
          "output_type": "display_data",
          "data": {
            "image/png": "[encoded data removed]",
            "text/plain": [
              "<Figure size 432x288 with 2 Axes>"
            ]
          },
          "metadata": {
            "tags": [],
            "needs_background": "light"
          }
        }
      ]
    },
    {
      "cell_type": "code",
      "metadata": {
        "id": "a-edxxaNB-jL"
      },
      "source": [
        "result_class['Precision'] = precision\n",
        "result_class['recall'] = recall\n",
        "result_class['fscore'] = fscore\n",
        "\n",
        "result_class.to_csv('result_class.csv', index=False)"
      ],
      "execution_count": null,
      "outputs": []
    },
    {
      "cell_type": "markdown",
      "metadata": {
        "id": "bQdJdoe3xZw_"
      },
      "source": [
        "**Esta técnica obteve uma acuracia de 87.21%, precisão de 92,40% e um recall de 57,01%. Mostrando-se uma possivel solução para a devida classificação.**"
      ]
    }
  ]
}
